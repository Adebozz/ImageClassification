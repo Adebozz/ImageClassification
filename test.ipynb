{
 "cells": [
  {
   "attachments": {},
   "cell_type": "markdown",
   "metadata": {},
   "source": [
    "# 1. Install Dependencies and Setup"
   ]
  },
  {
   "cell_type": "code",
   "execution_count": null,
   "metadata": {},
   "outputs": [],
   "source": []
  },
  {
   "attachments": {},
   "cell_type": "markdown",
   "metadata": {},
   "source": [
    "# 2. Remove Dodgy Images"
   ]
  },
  {
   "cell_type": "code",
   "execution_count": null,
   "metadata": {},
   "outputs": [],
   "source": []
  },
  {
   "cell_type": "markdown",
   "metadata": {},
   "source": []
  },
  {
   "cell_type": "markdown",
   "metadata": {},
   "source": [
    "# 3. Load Data"
   ]
  },
  {
   "cell_type": "code",
   "execution_count": 27,
   "metadata": {},
   "outputs": [],
   "source": [
    "import os\n",
    "import cv2\n",
    "import numpy as np"
   ]
  },
  {
   "cell_type": "code",
   "execution_count": 28,
   "metadata": {},
   "outputs": [],
   "source": [
    "data_dir = 'SKCD'  # Path to your dataset directory\n",
    "categories = ['actinic keratosis','basal cell carcinoma','dermatofibroma', 'melanoma','nevus','pigmented benign keratosis','seborrheic keratosis', 'squamous cell carcinoma','vascular lesion']  # Categories or class labels\n"
   ]
  },
  {
   "cell_type": "code",
   "execution_count": 29,
   "metadata": {},
   "outputs": [],
   "source": [
    "images = []\n",
    "labels = []\n",
    "\n",
    "for category in categories:\n",
    "    path = os.path.join(data_dir, category)\n",
    "    for img_name in os.listdir(path):\n",
    "        img_path = os.path.join(path, img_name)\n",
    "        img = cv2.imread(img_path)\n",
    "        img = cv2.cvtColor(img, cv2.COLOR_BGR2RGB)  # Convert BGR to RGB\n",
    "        img = cv2.resize(img, (224, 224))  # Resize the image to a desired size\n",
    "        images.append(img)\n",
    "        labels.append(categories.index(category))\n",
    "\n",
    "# Convert the lists to numpy arrays\n",
    "images = np.array(images)\n",
    "labels = np.array(labels)\n"
   ]
  },
  {
   "attachments": {},
   "cell_type": "markdown",
   "metadata": {},
   "source": [
    "# 4. Scale Data\n"
   ]
  },
  {
   "cell_type": "code",
   "execution_count": 30,
   "metadata": {},
   "outputs": [],
   "source": [
    "images = images / 255.0"
   ]
  },
  {
   "attachments": {},
   "cell_type": "markdown",
   "metadata": {},
   "source": [
    "# 5. Split Data"
   ]
  },
  {
   "cell_type": "code",
   "execution_count": 31,
   "metadata": {},
   "outputs": [],
   "source": [
    "from sklearn.model_selection import train_test_split\n",
    "\n",
    "x_train, x_test, y_train, y_test = train_test_split(images, labels, test_size=0.2, random_state=42, shuffle=True)\n"
   ]
  },
  {
   "cell_type": "markdown",
   "metadata": {},
   "source": [
    "# 6. Build Deep Learning Model"
   ]
  },
  {
   "cell_type": "code",
   "execution_count": 32,
   "metadata": {},
   "outputs": [],
   "source": [
    "import tensorflow as tf\n",
    "from tensorflow.keras.models import Sequential\n",
    "from tensorflow.keras.layers import Conv2D, MaxPooling2D, Flatten, Dense\n",
    "\n",
    "model = Sequential([\n",
    "    Conv2D(32, (3, 3), activation='relu', input_shape=(224, 224, 3)),\n",
    "    MaxPooling2D((2, 2)),\n",
    "    Conv2D(64, (3, 3), activation='relu'),\n",
    "    MaxPooling2D((2, 2)),\n",
    "    Flatten(),\n",
    "    Dense(64, activation='relu'),\n",
    "    Dense(len(categories), activation='softmax')\n",
    "])\n"
   ]
  },
  {
   "attachments": {},
   "cell_type": "markdown",
   "metadata": {},
   "source": [
    "# 7. Train"
   ]
  },
  {
   "cell_type": "code",
   "execution_count": 33,
   "metadata": {},
   "outputs": [
    {
     "name": "stdout",
     "output_type": "stream",
     "text": [
      "Epoch 1/20\n",
      "59/59 [==============================] - 246s 3s/step - loss: 2.5853 - accuracy: 0.2621 - val_loss: 1.8440 - val_accuracy: 0.3199\n",
      "Epoch 2/20\n",
      "59/59 [==============================] - 268s 5s/step - loss: 1.6687 - accuracy: 0.4154 - val_loss: 1.6074 - val_accuracy: 0.4449\n",
      "Epoch 3/20\n",
      "59/59 [==============================] - 168s 3s/step - loss: 1.5176 - accuracy: 0.4764 - val_loss: 1.5439 - val_accuracy: 0.4767\n",
      "Epoch 4/20\n",
      "59/59 [==============================] - 180s 3s/step - loss: 1.3943 - accuracy: 0.5162 - val_loss: 1.5782 - val_accuracy: 0.4576\n",
      "Epoch 5/20\n",
      "59/59 [==============================] - 192s 3s/step - loss: 1.3425 - accuracy: 0.5257 - val_loss: 1.5763 - val_accuracy: 0.4788\n",
      "Epoch 6/20\n",
      "59/59 [==============================] - 199s 3s/step - loss: 1.1986 - accuracy: 0.5958 - val_loss: 1.5075 - val_accuracy: 0.5021\n",
      "Epoch 7/20\n",
      "59/59 [==============================] - 199s 3s/step - loss: 1.1144 - accuracy: 0.6085 - val_loss: 1.6297 - val_accuracy: 0.4682\n",
      "Epoch 8/20\n",
      "59/59 [==============================] - 207s 4s/step - loss: 1.0488 - accuracy: 0.6313 - val_loss: 1.5823 - val_accuracy: 0.4661\n",
      "Epoch 9/20\n",
      "59/59 [==============================] - 209s 4s/step - loss: 0.9475 - accuracy: 0.6764 - val_loss: 1.7584 - val_accuracy: 0.4364\n",
      "Epoch 10/20\n",
      "59/59 [==============================] - 210s 4s/step - loss: 0.8130 - accuracy: 0.7072 - val_loss: 1.6356 - val_accuracy: 0.4767\n",
      "Epoch 11/20\n",
      "59/59 [==============================] - 218s 4s/step - loss: 0.7215 - accuracy: 0.7406 - val_loss: 2.0365 - val_accuracy: 0.4809\n",
      "Epoch 12/20\n",
      "59/59 [==============================] - 220s 4s/step - loss: 0.6712 - accuracy: 0.7613 - val_loss: 1.7905 - val_accuracy: 0.4809\n",
      "Epoch 13/20\n",
      "59/59 [==============================] - 216s 4s/step - loss: 0.5866 - accuracy: 0.7968 - val_loss: 2.0752 - val_accuracy: 0.4322\n",
      "Epoch 14/20\n",
      "59/59 [==============================] - 212s 4s/step - loss: 0.5573 - accuracy: 0.8037 - val_loss: 2.0574 - val_accuracy: 0.4407\n",
      "Epoch 15/20\n",
      "59/59 [==============================] - 218s 4s/step - loss: 0.4788 - accuracy: 0.8419 - val_loss: 2.3540 - val_accuracy: 0.4852\n",
      "Epoch 16/20\n",
      "59/59 [==============================] - 218s 4s/step - loss: 0.4546 - accuracy: 0.8377 - val_loss: 2.5612 - val_accuracy: 0.4301\n",
      "Epoch 17/20\n",
      "59/59 [==============================] - 215s 4s/step - loss: 0.4268 - accuracy: 0.8371 - val_loss: 2.2642 - val_accuracy: 0.4597\n",
      "Epoch 18/20\n",
      "59/59 [==============================] - 220s 4s/step - loss: 0.3462 - accuracy: 0.8727 - val_loss: 2.3782 - val_accuracy: 0.4746\n",
      "Epoch 19/20\n",
      "59/59 [==============================] - 235s 4s/step - loss: 0.2867 - accuracy: 0.8785 - val_loss: 2.8086 - val_accuracy: 0.4640\n",
      "Epoch 20/20\n",
      "59/59 [==============================] - 6011s 104s/step - loss: 0.2690 - accuracy: 0.8939 - val_loss: 2.9646 - val_accuracy: 0.4576\n"
     ]
    }
   ],
   "source": [
    "model.compile(optimizer='adam', loss='sparse_categorical_crossentropy', metrics=['accuracy'])\n",
    "model.fit(x_train, y_train, epochs=20, batch_size=32, validation_data=(x_test, y_test))\n"
   ]
  },
  {
   "attachments": {},
   "cell_type": "markdown",
   "metadata": {},
   "source": [
    "# 8. Plot Performance"
   ]
  },
  {
   "cell_type": "code",
   "execution_count": null,
   "metadata": {},
   "outputs": [
    {
     "data": {
      "image/png": "[encoded data removed]",
      "text/plain": [
       "<Figure size 640x480 with 1 Axes>"
      ]
     },
     "metadata": {},
     "output_type": "display_data"
    },
    {
     "data": {
      "image/png": "[encoded data removed]",
      "text/plain": [
       "<Figure size 640x480 with 1 Axes>"
      ]
     },
     "metadata": {},
     "output_type": "display_data"
    }
   ],
   "source": [
    "import matplotlib.pyplot as plt\n",
    "\n",
    "history = model.history.history\n",
    "\n",
    "plt.plot(history['accuracy'])\n",
    "plt.plot(history['val_accuracy'])\n",
    "plt.title('Model Accuracy')\n",
    "plt.xlabel('Epoch')\n",
    "plt.ylabel('Accuracy')\n",
    "plt.legend(['Train', 'Test'], loc='upper left')\n",
    "plt.show()\n",
    "\n",
    "plt.plot(history['loss'])\n",
    "plt.plot(history['val_loss'])\n",
    "plt.title('Model Loss')\n",
    "plt.xlabel('Epoch')\n",
    "plt.ylabel('Loss')\n",
    "plt.legend(['Train', 'Test'], loc='upper left')\n",
    "plt.show()"
   ]
  },
  {
   "attachments": {},
   "cell_type": "markdown",
   "metadata": {},
   "source": [
    "# 9. Evaluate"
   ]
  },
  {
   "cell_type": "code",
   "execution_count": null,
   "metadata": {},
   "outputs": [
    {
     "name": "stdout",
     "output_type": "stream",
     "text": [
      "15/15 [==============================] - 19s 1s/step - loss: 2.9922 - accuracy: 0.4492\n",
      "Test Loss: 2.9921536445617676\n",
      "Test Accuracy: 0.44915252923965454\n"
     ]
    }
   ],
   "source": [
    "test_loss, test_acc = model.evaluate(x_test, y_test)\n",
    "print('Test Loss:', test_loss)\n",
    "print('Test Accuracy:', test_acc)"
   ]
  },
  {
   "attachments": {},
   "cell_type": "markdown",
   "metadata": {},
   "source": [
    "# 10. Test"
   ]
  },
  {
   "cell_type": "code",
   "execution_count": null,
   "metadata": {},
   "outputs": [
    {
     "name": "stdout",
     "output_type": "stream",
     "text": [
      "1/1 [==============================] - 3s 3s/step\n",
      "Predicted label: actinic keratosis\n"
     ]
    }
   ],
   "source": [
    "import cv2\n",
    "import numpy as np\n",
    "from tensorflow.keras.models import load_model\n",
    "\n",
    "# Load the trained model\n",
    "model = load_model('models/imageclassifier.h5')\n",
    "\n",
    "# Load and preprocess the image\n",
    "image_path = 'SKC/melanoma/ISIC_0000004.jpg'  # Replace with the path to your image\n",
    "image = cv2.imread(image_path)\n",
    "image = cv2.resize(image, (256, 256))\n",
    "image = image.astype('float32') / 255.0\n",
    "image = np.expand_dims(image, axis=0)\n",
    "\n",
    "# Perform prediction\n",
    "prediction = model.predict(image)\n",
    "predicted_class = np.argmax(prediction)\n",
    "\n",
    "# Get the class label\n",
    "class_labels = ['actinic keratosis','basal cell carcinoma','dermatofibroma', 'melanoma','nevus','pigmented benign keratosis','seborrheic keratosis', 'squamous cell carcinoma','vascular lesion']  # Update with your class labels\n",
    "predicted_label = class_labels[predicted_class]\n",
    "\n",
    "# Display the predicted label\n",
    "print('Predicted label:', predicted_label)"
   ]
  },
  {
   "attachments": {},
   "cell_type": "markdown",
   "metadata": {},
   "source": [
    "# 11. Save the Model"
   ]
  },
  {
   "cell_type": "code",
   "execution_count": null,
   "metadata": {},
   "outputs": [],
   "source": [
    "model.save('skin_cancer_model.h5')"
   ]
  },
  {
   "attachments": {},
   "cell_type": "markdown",
   "metadata": {},
   "source": [
    "# 12. Connect the User Interface"
   ]
  },
  {
   "cell_type": "code",
   "execution_count": null,
   "metadata": {},
   "outputs": [
    {
     "name": "stdout",
     "output_type": "stream",
     "text": [
      " * Serving Flask app '__main__'\n",
      " * Debug mode: off\n"
     ]
    },
    {
     "name": "stderr",
     "output_type": "stream",
     "text": [
      "WARNING: This is a development server. Do not use it in a production deployment. Use a production WSGI server instead.\n",
      " * Running on http://127.0.0.1:5000\n",
      "Press CTRL+C to quit\n"
     ]
    }
   ],
   "source": [
    "import os\n",
    "from flask import Flask, render_template, request\n",
    "from werkzeug.utils import secure_filename\n",
    "import cv2\n",
    "import numpy as np\n",
    "from tensorflow.keras.models import load_model\n",
    "\n",
    "# Initialize Flask application\n",
    "app = Flask(__name__)\n",
    "\n",
    "# Load the skin cancer classifier model\n",
    "model = load_model('skin_cancer_model.h5')\n",
    "categories = ['actinic keratosis','basal cell carcinoma','dermatofibroma', 'melanoma','nevus','pigmented benign keratosis','seborrheic keratosis', 'squamous cell carcinoma','vascular lesion']\n",
    "\n",
    "# Define allowed file extensions\n",
    "ALLOWED_EXTENSIONS = {'jpg', 'jpeg', 'png'}\n",
    "\n",
    "# Configure upload folder\n",
    "UPLOAD_FOLDER = 'uploads'\n",
    "app.config['UPLOAD_FOLDER'] = UPLOAD_FOLDER\n",
    "\n",
    "\n",
    "def allowed_file(filename):\n",
    "    # Check if the file has an allowed extension\n",
    "    return '.' in filename and \\\n",
    "           filename.rsplit('.', 1)[1].lower() in ALLOWED_EXTENSIONS\n",
    "\n",
    "\n",
    "def preprocess_image(image):\n",
    "    # Preprocess the image for prediction\n",
    "    image = cv2.cvtColor(image, cv2.COLOR_BGR2RGB)\n",
    "    image = cv2.resize(image, (256, 256))  # Adjust the size according to the model requirements\n",
    "    image = image.astype('float32') / 255.0\n",
    "    return image\n",
    "\n",
    "\n",
    "def classify_image(image):\n",
    "    # Classify the image using the loaded model\n",
    "    preprocessed_image = preprocess_image(image)\n",
    "    preprocessed_image = np.expand_dims(preprocessed_image, axis=0)\n",
    "    prediction = model.predict(preprocessed_image)\n",
    "    predicted_label = categories[np.argmax(prediction)]\n",
    "    return predicted_label\n",
    "\n",
    "\n",
    "@app.route('/')\n",
    "def index():\n",
    "    # Render the index.html template\n",
    "    return render_template('index.html')\n",
    "\n",
    "\n",
    "@app.route('/upload', methods=['POST'])\n",
    "def upload():\n",
    "    # Handle file upload from the front-end\n",
    "    if 'file' not in request.files:\n",
    "        return 'No file uploaded', 400\n",
    "\n",
    "    file = request.files['file']\n",
    "\n",
    "    if file.filename == '':\n",
    "        return 'No selected file', 400\n",
    "\n",
    "    if file and allowed_file(file.filename):\n",
    "        filename = secure_filename(file.filename)\n",
    "        filepath = os.path.join(app.config['UPLOAD_FOLDER'], filename)\n",
    "        file.save(filepath)\n",
    "\n",
    "        # Load and classify the uploaded image\n",
    "        image = cv2.imread(filepath)\n",
    "        predicted_label = classify_image(image)\n",
    "\n",
    "        # Remove the uploaded file\n",
    "        os.remove(filepath)\n",
    "\n",
    "        return f'Predicted label: {predicted_label}'\n",
    "\n",
    "    return 'Invalid file', 400\n",
    "\n",
    "\n",
    "if __name__ == '__main__':\n",
    "    app.run()"
   ]
  }
 ],
 "metadata": {
  "kernelspec": {
   "display_name": "Python 3",
   "language": "python",
   "name": "python3"
  },
  "language_info": {
   "codemirror_mode": {
    "name": "ipython",
    "version": 3
   },
   "file_extension": ".py",
   "mimetype": "text/x-python",
   "name": "python",
   "nbconvert_exporter": "python",
   "pygments_lexer": "ipython3",
   "version": "3.11.1"
  },
  "orig_nbformat": 4
 },
 "nbformat": 4,
 "nbformat_minor": 2
}
