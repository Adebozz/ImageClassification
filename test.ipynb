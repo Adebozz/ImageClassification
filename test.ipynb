{
 "cells": [
  {
   "attachments": {},
   "cell_type": "markdown",
   "metadata": {},
   "source": [
    "# 1. Install Dependencies and Setup"
   ]
  },
  {
   "cell_type": "code",
   "execution_count": null,
   "metadata": {},
   "outputs": [],
   "source": []
  },
  {
   "attachments": {},
   "cell_type": "markdown",
   "metadata": {},
   "source": [
    "# 2. Remove Dodgy Images"
   ]
  },
  {
   "cell_type": "code",
   "execution_count": null,
   "metadata": {},
   "outputs": [],
   "source": []
  },
  {
   "cell_type": "markdown",
   "metadata": {},
   "source": []
  },
  {
   "cell_type": "markdown",
   "metadata": {},
   "source": [
    "# 3. Load Data"
   ]
  },
  {
   "cell_type": "code",
   "execution_count": 2,
   "metadata": {},
   "outputs": [],
   "source": [
    "import os\n",
    "import cv2\n",
    "import numpy as np"
   ]
  },
  {
   "cell_type": "code",
   "execution_count": 3,
   "metadata": {},
   "outputs": [],
   "source": [
    "data_dir = 'SKC'  # Path to your dataset directory\n",
    "categories = ['basal cell carcinoma', 'melanoma', 'squamous cell carcinoma']  # Categories or class labels\n"
   ]
  },
  {
   "cell_type": "code",
   "execution_count": 4,
   "metadata": {},
   "outputs": [],
   "source": [
    "images = []\n",
    "labels = []\n",
    "\n",
    "for category in categories:\n",
    "    path = os.path.join(data_dir, category)\n",
    "    for img_name in os.listdir(path):\n",
    "        img_path = os.path.join(path, img_name)\n",
    "        img = cv2.imread(img_path)\n",
    "        img = cv2.cvtColor(img, cv2.COLOR_BGR2RGB)  # Convert BGR to RGB\n",
    "        img = cv2.resize(img, (224, 224))  # Resize the image to a desired size\n",
    "        images.append(img)\n",
    "        labels.append(categories.index(category))\n",
    "\n",
    "# Convert the lists to numpy arrays\n",
    "images = np.array(images)\n",
    "labels = np.array(labels)\n"
   ]
  },
  {
   "attachments": {},
   "cell_type": "markdown",
   "metadata": {},
   "source": [
    "# 4. Scale Data\n"
   ]
  },
  {
   "cell_type": "code",
   "execution_count": 5,
   "metadata": {},
   "outputs": [],
   "source": [
    "images = images / 255.0"
   ]
  },
  {
   "attachments": {},
   "cell_type": "markdown",
   "metadata": {},
   "source": [
    "# 5. Split Data"
   ]
  },
  {
   "cell_type": "code",
   "execution_count": 6,
   "metadata": {},
   "outputs": [],
   "source": [
    "from sklearn.model_selection import train_test_split\n",
    "\n",
    "x_train, x_test, y_train, y_test = train_test_split(images, labels, test_size=0.2, random_state=42, shuffle=True)\n"
   ]
  },
  {
   "cell_type": "markdown",
   "metadata": {},
   "source": [
    "# 6. Build Deep Learning Model"
   ]
  },
  {
   "cell_type": "code",
   "execution_count": 7,
   "metadata": {},
   "outputs": [],
   "source": [
    "import tensorflow as tf\n",
    "from tensorflow.keras.models import Sequential\n",
    "from tensorflow.keras.layers import Conv2D, MaxPooling2D, Flatten, Dense\n",
    "\n",
    "model = Sequential([\n",
    "    Conv2D(32, (3, 3), activation='relu', input_shape=(224, 224, 3)),\n",
    "    MaxPooling2D((2, 2)),\n",
    "    Conv2D(64, (3, 3), activation='relu'),\n",
    "    MaxPooling2D((2, 2)),\n",
    "    Flatten(),\n",
    "    Dense(64, activation='relu'),\n",
    "    Dense(len(categories), activation='softmax')\n",
    "])\n"
   ]
  },
  {
   "attachments": {},
   "cell_type": "markdown",
   "metadata": {},
   "source": [
    "# 7. Train"
   ]
  },
  {
   "cell_type": "code",
   "execution_count": 8,
   "metadata": {},
   "outputs": [
    {
     "name": "stdout",
     "output_type": "stream",
     "text": [
      "Epoch 1/20\n",
      "27/27 [==============================] - 116s 4s/step - loss: 2.3642 - accuracy: 0.4952 - val_loss: 1.4151 - val_accuracy: 0.4258\n",
      "Epoch 2/20\n",
      "27/27 [==============================] - 86s 3s/step - loss: 0.9205 - accuracy: 0.5959 - val_loss: 0.8008 - val_accuracy: 0.6603\n",
      "Epoch 3/20\n",
      "27/27 [==============================] - 97s 4s/step - loss: 0.7824 - accuracy: 0.6739 - val_loss: 1.3916 - val_accuracy: 0.4211\n",
      "Epoch 4/20\n",
      "27/27 [==============================] - 98s 4s/step - loss: 0.9656 - accuracy: 0.6103 - val_loss: 0.8546 - val_accuracy: 0.6172\n",
      "Epoch 5/20\n",
      "27/27 [==============================] - 101s 4s/step - loss: 0.8861 - accuracy: 0.6175 - val_loss: 1.0572 - val_accuracy: 0.4067\n",
      "Epoch 6/20\n",
      "27/27 [==============================] - 104s 4s/step - loss: 0.8228 - accuracy: 0.6619 - val_loss: 0.7416 - val_accuracy: 0.6938\n",
      "Epoch 7/20\n",
      "27/27 [==============================] - 105s 4s/step - loss: 0.5935 - accuracy: 0.7530 - val_loss: 0.8778 - val_accuracy: 0.6029\n",
      "Epoch 8/20\n",
      "27/27 [==============================] - 111s 4s/step - loss: 0.5688 - accuracy: 0.7566 - val_loss: 0.6408 - val_accuracy: 0.7177\n",
      "Epoch 9/20\n",
      "27/27 [==============================] - 94s 3s/step - loss: 0.4360 - accuracy: 0.8189 - val_loss: 0.7230 - val_accuracy: 0.7225\n",
      "Epoch 10/20\n",
      "27/27 [==============================] - 91s 3s/step - loss: 0.3922 - accuracy: 0.8525 - val_loss: 0.9932 - val_accuracy: 0.6172\n",
      "Epoch 11/20\n",
      "27/27 [==============================] - 91s 3s/step - loss: 0.5123 - accuracy: 0.7926 - val_loss: 0.7662 - val_accuracy: 0.6555\n",
      "Epoch 12/20\n",
      "27/27 [==============================] - 93s 3s/step - loss: 0.3169 - accuracy: 0.8681 - val_loss: 0.7088 - val_accuracy: 0.7129\n",
      "Epoch 13/20\n",
      "27/27 [==============================] - 91s 3s/step - loss: 0.2509 - accuracy: 0.8993 - val_loss: 0.9998 - val_accuracy: 0.7225\n",
      "Epoch 14/20\n",
      "27/27 [==============================] - 93s 3s/step - loss: 0.2557 - accuracy: 0.9137 - val_loss: 0.7671 - val_accuracy: 0.7273\n",
      "Epoch 15/20\n",
      "27/27 [==============================] - 105s 4s/step - loss: 0.2626 - accuracy: 0.8969 - val_loss: 0.7578 - val_accuracy: 0.7129\n",
      "Epoch 16/20\n",
      "27/27 [==============================] - 107s 4s/step - loss: 0.1863 - accuracy: 0.9329 - val_loss: 0.9100 - val_accuracy: 0.7033\n",
      "Epoch 17/20\n",
      "27/27 [==============================] - 107s 4s/step - loss: 0.1513 - accuracy: 0.9448 - val_loss: 0.8042 - val_accuracy: 0.6890\n",
      "Epoch 18/20\n",
      "27/27 [==============================] - 116s 4s/step - loss: 0.1651 - accuracy: 0.9472 - val_loss: 0.9744 - val_accuracy: 0.6699\n",
      "Epoch 19/20\n",
      "27/27 [==============================] - 164s 6s/step - loss: 0.1163 - accuracy: 0.9676 - val_loss: 1.0446 - val_accuracy: 0.6842\n",
      "Epoch 20/20\n",
      "27/27 [==============================] - 151s 6s/step - loss: 0.0738 - accuracy: 0.9808 - val_loss: 1.4731 - val_accuracy: 0.6794\n"
     ]
    },
    {
     "data": {
      "text/plain": [
       "<keras.callbacks.History at 0x22145815390>"
      ]
     },
     "execution_count": 8,
     "metadata": {},
     "output_type": "execute_result"
    }
   ],
   "source": [
    "model.compile(optimizer='adam', loss='sparse_categorical_crossentropy', metrics=['accuracy'])\n",
    "model.fit(x_train, y_train, epochs=20, batch_size=32, validation_data=(x_test, y_test))\n"
   ]
  },
  {
   "attachments": {},
   "cell_type": "markdown",
   "metadata": {},
   "source": [
    "# 8. Plot Performance"
   ]
  },
  {
   "cell_type": "code",
   "execution_count": 9,
   "metadata": {},
   "outputs": [
    {
     "data": {
      "image/png": "[encoded data removed]",
      "text/plain": [
       "<Figure size 640x480 with 1 Axes>"
      ]
     },
     "metadata": {},
     "output_type": "display_data"
    },
    {
     "data": {
      "image/png": "[encoded data removed]",
      "text/plain": [
       "<Figure size 640x480 with 1 Axes>"
      ]
     },
     "metadata": {},
     "output_type": "display_data"
    }
   ],
   "source": [
    "import matplotlib.pyplot as plt\n",
    "\n",
    "history = model.history.history\n",
    "\n",
    "plt.plot(history['accuracy'])\n",
    "plt.plot(history['val_accuracy'])\n",
    "plt.title('Model Accuracy')\n",
    "plt.xlabel('Epoch')\n",
    "plt.ylabel('Accuracy')\n",
    "plt.legend(['Train', 'Test'], loc='upper left')\n",
    "plt.show()\n",
    "\n",
    "plt.plot(history['loss'])\n",
    "plt.plot(history['val_loss'])\n",
    "plt.title('Model Loss')\n",
    "plt.xlabel('Epoch')\n",
    "plt.ylabel('Loss')\n",
    "plt.legend(['Train', 'Test'], loc='upper left')\n",
    "plt.show()"
   ]
  },
  {
   "attachments": {},
   "cell_type": "markdown",
   "metadata": {},
   "source": [
    "# 9. Evaluate"
   ]
  },
  {
   "cell_type": "code",
   "execution_count": 10,
   "metadata": {},
   "outputs": [
    {
     "name": "stdout",
     "output_type": "stream",
     "text": [
      "7/7 [==============================] - 10s 1s/step - loss: 1.4731 - accuracy: 0.6794\n",
      "Test Loss: 1.4731205701828003\n",
      "Test Accuracy: 0.679425835609436\n"
     ]
    }
   ],
   "source": [
    "test_loss, test_acc = model.evaluate(x_test, y_test)\n",
    "print('Test Loss:', test_loss)\n",
    "print('Test Accuracy:', test_acc)"
   ]
  },
  {
   "attachments": {},
   "cell_type": "markdown",
   "metadata": {},
   "source": [
    "# 10. Test"
   ]
  },
  {
   "cell_type": "code",
   "execution_count": 11,
   "metadata": {},
   "outputs": [
    {
     "name": "stdout",
     "output_type": "stream",
     "text": [
      "1/1 [==============================] - 0s 353ms/step\n",
      "Predicted label: Basal Cell Carcinoma\n"
     ]
    }
   ],
   "source": [
    "import cv2\n",
    "import numpy as np\n",
    "from tensorflow.keras.models import load_model\n",
    "\n",
    "# Load the trained model\n",
    "model = load_model('models/imageclassifier.h5')\n",
    "\n",
    "# Load and preprocess the image\n",
    "image_path = 'SKC/melanoma/ISIC_0000004.jpg'  # Replace with the path to your image\n",
    "image = cv2.imread(image_path)\n",
    "image = cv2.resize(image, (256, 256))\n",
    "image = image.astype('float32') / 255.0\n",
    "image = np.expand_dims(image, axis=0)\n",
    "\n",
    "# Perform prediction\n",
    "prediction = model.predict(image)\n",
    "predicted_class = np.argmax(prediction)\n",
    "\n",
    "# Get the class label\n",
    "class_labels = ['Basal Cell Carcinoma', 'Melanoma', 'Squamous cell carcinoma']  # Update with your class labels\n",
    "predicted_label = class_labels[predicted_class]\n",
    "\n",
    "# Display the predicted label\n",
    "print('Predicted label:', predicted_label)"
   ]
  },
  {
   "attachments": {},
   "cell_type": "markdown",
   "metadata": {},
   "source": [
    "# 11. Save the Model"
   ]
  },
  {
   "cell_type": "code",
   "execution_count": 12,
   "metadata": {},
   "outputs": [],
   "source": [
    "model.save('skin_cancer_model.h5')"
   ]
  },
  {
   "attachments": {},
   "cell_type": "markdown",
   "metadata": {},
   "source": [
    "# 12. Connect the User Interface"
   ]
  },
  {
   "cell_type": "code",
   "execution_count": 13,
   "metadata": {},
   "outputs": [
    {
     "name": "stdout",
     "output_type": "stream",
     "text": [
      " * Serving Flask app '__main__'\n",
      " * Debug mode: off\n"
     ]
    },
    {
     "name": "stderr",
     "output_type": "stream",
     "text": [
      "WARNING: This is a development server. Do not use it in a production deployment. Use a production WSGI server instead.\n",
      " * Running on http://127.0.0.1:5000\n",
      "Press CTRL+C to quit\n",
      "127.0.0.1 - - [28/May/2023 16:43:20] \"GET / HTTP/1.1\" 200 -\n"
     ]
    },
    {
     "name": "stdout",
     "output_type": "stream",
     "text": [
      "1/1 [==============================] - 0s 318ms/step\n"
     ]
    },
    {
     "name": "stderr",
     "output_type": "stream",
     "text": [
      "127.0.0.1 - - [28/May/2023 16:43:36] \"POST /upload HTTP/1.1\" 200 -\n"
     ]
    },
    {
     "name": "stdout",
     "output_type": "stream",
     "text": [
      "1/1 [==============================] - 0s 89ms/step\n"
     ]
    },
    {
     "name": "stderr",
     "output_type": "stream",
     "text": [
      "127.0.0.1 - - [28/May/2023 16:45:24] \"POST /upload HTTP/1.1\" 200 -\n"
     ]
    }
   ],
   "source": [
    "import os\n",
    "from flask import Flask, render_template, request\n",
    "from werkzeug.utils import secure_filename\n",
    "import cv2\n",
    "import numpy as np\n",
    "from tensorflow.keras.models import load_model\n",
    "\n",
    "# Initialize Flask application\n",
    "app = Flask(__name__)\n",
    "\n",
    "# Load the skin cancer classifier model\n",
    "model = load_model('skin_cancer_model.h5')\n",
    "categories = ['basall cell carcinoma', 'melanoma', 'squamous cell carcinoma']\n",
    "\n",
    "# Define allowed file extensions\n",
    "ALLOWED_EXTENSIONS = {'jpg', 'jpeg', 'png'}\n",
    "\n",
    "# Configure upload folder\n",
    "UPLOAD_FOLDER = 'uploads'\n",
    "app.config['UPLOAD_FOLDER'] = UPLOAD_FOLDER\n",
    "\n",
    "\n",
    "def allowed_file(filename):\n",
    "    # Check if the file has an allowed extension\n",
    "    return '.' in filename and \\\n",
    "           filename.rsplit('.', 1)[1].lower() in ALLOWED_EXTENSIONS\n",
    "\n",
    "\n",
    "def preprocess_image(image):\n",
    "    # Preprocess the image for prediction\n",
    "    image = cv2.cvtColor(image, cv2.COLOR_BGR2RGB)\n",
    "    image = cv2.resize(image, (256, 256))  # Adjust the size according to the model requirements\n",
    "    image = image.astype('float32') / 255.0\n",
    "    return image\n",
    "\n",
    "\n",
    "def classify_image(image):\n",
    "    # Classify the image using the loaded model\n",
    "    preprocessed_image = preprocess_image(image)\n",
    "    preprocessed_image = np.expand_dims(preprocessed_image, axis=0)\n",
    "    prediction = model.predict(preprocessed_image)\n",
    "    predicted_label = categories[np.argmax(prediction)]\n",
    "    return predicted_label\n",
    "\n",
    "\n",
    "@app.route('/')\n",
    "def index():\n",
    "    # Render the index.html template\n",
    "    return render_template('index.html')\n",
    "\n",
    "\n",
    "@app.route('/upload', methods=['POST'])\n",
    "def upload():\n",
    "    # Handle file upload from the front-end\n",
    "    if 'file' not in request.files:\n",
    "        return 'No file uploaded', 400\n",
    "\n",
    "    file = request.files['file']\n",
    "\n",
    "    if file.filename == '':\n",
    "        return 'No selected file', 400\n",
    "\n",
    "    if file and allowed_file(file.filename):\n",
    "        filename = secure_filename(file.filename)\n",
    "        filepath = os.path.join(app.config['UPLOAD_FOLDER'], filename)\n",
    "        file.save(filepath)\n",
    "\n",
    "        # Load and classify the uploaded image\n",
    "        image = cv2.imread(filepath)\n",
    "        predicted_label = classify_image(image)\n",
    "\n",
    "        # Remove the uploaded file\n",
    "        os.remove(filepath)\n",
    "\n",
    "        return f'Predicted label: {predicted_label}'\n",
    "\n",
    "    return 'Invalid file', 400\n",
    "\n",
    "\n",
    "if __name__ == '__main__':\n",
    "    app.run()"
   ]
  }
 ],
 "metadata": {
  "kernelspec": {
   "display_name": "Python 3",
   "language": "python",
   "name": "python3"
  },
  "language_info": {
   "codemirror_mode": {
    "name": "ipython",
    "version": 3
   },
   "file_extension": ".py",
   "mimetype": "text/x-python",
   "name": "python",
   "nbconvert_exporter": "python",
   "pygments_lexer": "ipython3",
   "version": "3.11.1"
  },
  "orig_nbformat": 4
 },
 "nbformat": 4,
 "nbformat_minor": 2
}
